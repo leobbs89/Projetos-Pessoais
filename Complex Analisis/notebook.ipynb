{
 "cells": [
  {
   "cell_type": "code",
   "execution_count": 18,
   "metadata": {},
   "outputs": [],
   "source": [
    "import numpy as np\n",
    "from sympy import init_printing\n",
    "from sympy import *\n",
    "import matplotlib.pyplot as plt\n",
    "init_printing()\n",
    "x,y,t = symbols('x,y,t',real = True)\n",
    "z,w = symbols('z,w', complex = True)\n",
    "f,g,u,v = symbols('f,g,u,v', cls = Function)"
   ]
  },
  {
   "cell_type": "code",
   "execution_count": 50,
   "metadata": {},
   "outputs": [],
   "source": [
    "x = 2*cos(t)\n",
    "y = 2*sin(t)\n",
    "lim = 5\n",
    "p1 = plot_parametric((x,y),(t,-10,10),show = False)\n",
    "p1.xlim = (-lim,lim)\n",
    "p1.ylim = (-lim,lim)\n",
    "p2.xlabel = 'x'\n",
    "p2.ylabel = 'y'\n",
    "p1.show()\n",
    "\n"
   ]
  },
  {
   "cell_type": "code",
   "execution_count": 45,
   "metadata": {},
   "outputs": [],
   "source": [
    "z = x + y*I\n",
    "f = 1/z\n",
    "u = re(f)\n",
    "v = im(f)\n",
    "p2 = plot_parametric((u,v),(t,-10,10),show = False)\n",
    "p2.xlim = (-lim,lim)\n",
    "p2.ylim = (-lim,lim)\n",
    "p2.xlabel = 'Re(f(z))'\n",
    "p2.ylabel = 'Im(f(z))'\n",
    "p2.show()"
   ]
  },
  {
   "cell_type": "code",
   "execution_count": null,
   "metadata": {},
   "outputs": [],
   "source": []
  }
 ],
 "metadata": {
  "interpreter": {
   "hash": "1b10c84ead7a428560e181f7e66d037b1fa85652e893cf71c2022a5ec649ce29"
  },
  "kernelspec": {
   "display_name": "Python 3.9.2 64-bit",
   "name": "python3"
  },
  "language_info": {
   "codemirror_mode": {
    "name": "ipython",
    "version": 3
   },
   "file_extension": ".py",
   "mimetype": "text/x-python",
   "name": "python",
   "nbconvert_exporter": "python",
   "pygments_lexer": "ipython3",
   "version": "3.9.2"
  },
  "orig_nbformat": 4
 },
 "nbformat": 4,
 "nbformat_minor": 2
}
